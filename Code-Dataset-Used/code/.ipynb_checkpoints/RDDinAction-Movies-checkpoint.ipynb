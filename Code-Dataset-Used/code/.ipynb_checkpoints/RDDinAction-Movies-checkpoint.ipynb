{
 "cells": [
  {
   "cell_type": "code",
   "execution_count": 1,
   "id": "5ac58db7",
   "metadata": {},
   "outputs": [],
   "source": [
    "#!pip install pyspark\n",
    "import pyspark\n",
    "from pyspark.sql import SparkSession\n",
    "from pyspark.sql.functions import *"
   ]
  },
  {
   "cell_type": "code",
   "execution_count": 2,
   "id": "4e2044fc",
   "metadata": {},
   "outputs": [
    {
     "name": "stdout",
     "output_type": "stream",
     "text": [
      "23/01/02 22:50:14 WARN Utils: Your hostname, Amits-MacBook-Pro.local resolves to a loopback address: 127.0.0.1; using 192.168.1.9 instead (on interface en0)\n",
      "23/01/02 22:50:14 WARN Utils: Set SPARK_LOCAL_IP if you need to bind to another address\n"
     ]
    },
    {
     "name": "stderr",
     "output_type": "stream",
     "text": [
      "Setting default log level to \"WARN\".\n",
      "To adjust logging level use sc.setLogLevel(newLevel). For SparkR, use setLogLevel(newLevel).\n"
     ]
    },
    {
     "name": "stdout",
     "output_type": "stream",
     "text": [
      "23/01/02 22:50:14 WARN NativeCodeLoader: Unable to load native-hadoop library for your platform... using builtin-java classes where applicable\n",
      "23/01/02 22:50:16 WARN Utils: Service 'SparkUI' could not bind on port 4040. Attempting port 4041.\n",
      "23/01/02 22:50:16 WARN Utils: Service 'SparkUI' could not bind on port 4041. Attempting port 4042.\n",
      "23/01/02 22:50:16 WARN Utils: Service 'SparkUI' could not bind on port 4042. Attempting port 4043.\n"
     ]
    }
   ],
   "source": [
    "sc: SparkContext = SparkSession \\\n",
    "                        .builder \\\n",
    "                        .master(\"local\") \\\n",
    "                        .appName(\"amit-demo\") \\\n",
    "                        .getOrCreate() \\\n",
    "                        .sparkContext"
   ]
  },
  {
   "cell_type": "code",
   "execution_count": 3,
   "id": "7e8784b3",
   "metadata": {},
   "outputs": [],
   "source": [
    "def parse_file(element):\n",
    "    return element.split('::', 4)"
   ]
  },
  {
   "cell_type": "code",
   "execution_count": 4,
   "id": "73c219a6",
   "metadata": {},
   "outputs": [],
   "source": [
    "movies = sc.textFile(\"/Users/amitsingh/Downloads/data/movies.dat\").map(parse_file)"
   ]
  },
  {
   "cell_type": "code",
   "execution_count": 5,
   "id": "e2e47390",
   "metadata": {},
   "outputs": [],
   "source": [
    "ratings = sc.textFile(\"/Users/amitsingh/Downloads/data/ratings.dat\").map(parse_file)"
   ]
  },
  {
   "cell_type": "code",
   "execution_count": 6,
   "id": "816327aa",
   "metadata": {},
   "outputs": [],
   "source": [
    "filterrdd = movies.filter(lambda line: \"Comedy\" in line)"
   ]
  },
  {
   "cell_type": "code",
   "execution_count": 7,
   "id": "394c0727",
   "metadata": {},
   "outputs": [],
   "source": [
    "joinedRDD = filterrdd.keyBy(lambda e: e[0]).join(ratings.keyBy(lambda e: e[1]))"
   ]
  },
  {
   "cell_type": "code",
   "execution_count": 8,
   "id": "9ef3e22b",
   "metadata": {},
   "outputs": [
    {
     "name": "stderr",
     "output_type": "stream",
     "text": [
      "/Library/Frameworks/Python.framework/Versions/3.10/lib/python3.10/site-packages/pyspark/python/lib/pyspark.zip/pyspark/shuffle.py:65: UserWarning: Please install psutil to have better support with spilling\n",
      "/Library/Frameworks/Python.framework/Versions/3.10/lib/python3.10/site-packages/pyspark/python/lib/pyspark.zip/pyspark/shuffle.py:65: UserWarning: Please install psutil to have better support with spilling\n",
      "                                                                                \r"
     ]
    },
    {
     "data": {
      "text/plain": [
       "[('19',\n",
       "  (['19', 'Ace Ventura: When Nature Calls (1995)', 'Comedy'],\n",
       "   ['48', '19', '2', '978147297'])),\n",
       " ('19',\n",
       "  (['19', 'Ace Ventura: When Nature Calls (1995)', 'Comedy'],\n",
       "   ['75', '19', '5', '977850778']))]"
      ]
     },
     "execution_count": 8,
     "metadata": {},
     "output_type": "execute_result"
    }
   ],
   "source": [
    "joinedRDD.take(2)"
   ]
  },
  {
   "cell_type": "code",
   "execution_count": 9,
   "id": "be7e88ec",
   "metadata": {},
   "outputs": [
    {
     "name": "stderr",
     "output_type": "stream",
     "text": [
      "/Library/Frameworks/Python.framework/Versions/3.10/lib/python3.10/site-packages/pyspark/python/lib/pyspark.zip/pyspark/shuffle.py:65: UserWarning: Please install psutil to have better support with spilling\n",
      "                                                                                \r"
     ]
    }
   ],
   "source": [
    "finalRDD = joinedRDD.groupBy(lambda x: x[1][0][1]).map(lambda e: (e[0], len(e[1]))).max(key=lambda x: x[1])"
   ]
  },
  {
   "cell_type": "code",
   "execution_count": 10,
   "id": "4eddb8c4",
   "metadata": {},
   "outputs": [
    {
     "name": "stdout",
     "output_type": "stream",
     "text": [
      "('Being John Malkovich (1999)', 2241)\n"
     ]
    }
   ],
   "source": [
    "print(finalRDD)"
   ]
  },
  {
   "cell_type": "code",
   "execution_count": null,
   "id": "3eb09997",
   "metadata": {},
   "outputs": [],
   "source": []
  }
 ],
 "metadata": {
  "kernelspec": {
   "display_name": "Python 3 (ipykernel)",
   "language": "python",
   "name": "python3"
  },
  "language_info": {
   "codemirror_mode": {
    "name": "ipython",
    "version": 3
   },
   "file_extension": ".py",
   "mimetype": "text/x-python",
   "name": "python",
   "nbconvert_exporter": "python",
   "pygments_lexer": "ipython3",
   "version": "3.10.6"
  }
 },
 "nbformat": 4,
 "nbformat_minor": 5
}
